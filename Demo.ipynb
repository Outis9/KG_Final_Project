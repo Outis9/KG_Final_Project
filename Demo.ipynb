{
 "cells": [
  {
   "cell_type": "code",
   "execution_count": 1,
   "id": "c873b9e6",
   "metadata": {},
   "outputs": [],
   "source": [
    "from neo4j import GraphDatabase\n",
    "import warnings \n",
    "\n",
    "warnings.filterwarnings('ignore')"
   ]
  },
  {
   "cell_type": "code",
   "execution_count": 2,
   "id": "937db266",
   "metadata": {},
   "outputs": [],
   "source": [
    "# @Hakii\n",
    "uri = \"bolt://localhost:7687\" # 127.0.0.1:7687.\n",
    "driver = GraphDatabase.driver(uri, auth=(\"neo4j\", \"040811\"))"
   ]
  },
  {
   "cell_type": "markdown",
   "id": "5f0e0ea5",
   "metadata": {},
   "source": [
    "## 1.查询歌曲、专辑、歌手"
   ]
  },
  {
   "cell_type": "code",
   "execution_count": 3,
   "id": "ec97405a",
   "metadata": {},
   "outputs": [],
   "source": [
    "all_songs=[]\n",
    "all_albums=[]\n",
    "all_singers=[]"
   ]
  },
  {
   "cell_type": "code",
   "execution_count": 4,
   "id": "5550519c",
   "metadata": {},
   "outputs": [],
   "source": [
    "def init(tx):\n",
    "    songs = []\n",
    "    albums = []\n",
    "    singers = []\n",
    "    result1 = tx.run(\"match (n:`歌曲`) return n as item\")\n",
    "    result2 = tx.run(\"match (n:`专辑`) return n as item\")\n",
    "    result3 = tx.run(\"match (n:`歌手`) return n as item\")\n",
    "    for record in result1:\n",
    "        songs.append(record[\"item\"])\n",
    "    for record in result2:\n",
    "        albums.append(record[\"item\"])\n",
    "    for record in result3:\n",
    "        singers.append(record[\"item\"])\n",
    "    return songs,albums,singers"
   ]
  },
  {
   "cell_type": "code",
   "execution_count": 5,
   "id": "8f078b81",
   "metadata": {},
   "outputs": [],
   "source": [
    "with driver.session() as session:\n",
    "    [cns1, cns2, cns3] = session.read_transaction(init)\n",
    "    for tmp in cns1:\n",
    "        all_songs.append(tmp['song_name'])\n",
    "    for tmp in cns2:\n",
    "        all_albums.append(tmp['album_name'])\n",
    "    for tmp in cns3:\n",
    "        all_singers.append(tmp['singer_name'])"
   ]
  },
  {
   "cell_type": "code",
   "execution_count": 6,
   "id": "e40723b4",
   "metadata": {},
   "outputs": [],
   "source": [
    "# all_songs\n",
    "# all_albums\n",
    "# all_singers"
   ]
  },
  {
   "cell_type": "markdown",
   "id": "91cbc1ae",
   "metadata": {},
   "source": [
    "## 3. 歌曲的专辑名"
   ]
  },
  {
   "cell_type": "code",
   "execution_count": 7,
   "id": "2906629c",
   "metadata": {},
   "outputs": [],
   "source": [
    "def album_name_by_song(tx, song):\n",
    "    names = []\n",
    "    result = tx.run(\"match (n) --(m:`专辑`) where n.song_name = $name return m as album\", name=song)\n",
    "    for record in result:\n",
    "        names.append(record[\"album\"])\n",
    "    return names"
   ]
  },
  {
   "cell_type": "code",
   "execution_count": 8,
   "id": "c3eb53a3",
   "metadata": {},
   "outputs": [
    {
     "name": "stdout",
     "output_type": "stream",
     "text": [
      "Mojito\n",
      "最伟大的作品\n"
     ]
    }
   ],
   "source": [
    "with driver.session() as session:\n",
    "    albums = session.read_transaction(album_name_by_song, \"Mojito\")\n",
    "    albums = list(set(albums)) #去重，不知为什么有重复\n",
    "    for album in albums:\n",
    "        # print(song) # 输出全部有关信息\n",
    "        print(album['album_name'])"
   ]
  },
  {
   "cell_type": "markdown",
   "id": "eabf780f",
   "metadata": {},
   "source": [
    "## 4. 专辑包含哪些歌曲"
   ]
  },
  {
   "cell_type": "code",
   "execution_count": 9,
   "id": "6197ce95",
   "metadata": {},
   "outputs": [],
   "source": [
    "def album_include(tx, album):\n",
    "    songs = []\n",
    "    result = tx.run(\"match(m:`专辑`)-[r:include]->(n:`歌曲`) where m.album_name=$name return n as song\", name=album)\n",
    "    for record in result:\n",
    "        songs.append(record[\"song\"])\n",
    "    return songs"
   ]
  },
  {
   "cell_type": "code",
   "execution_count": 10,
   "id": "0d1f5039",
   "metadata": {},
   "outputs": [
    {
     "name": "stdout",
     "output_type": "stream",
     "text": [
      "梯田\n",
      "同一种调调\n",
      "晴天\n",
      "东风破\n",
      "你听得到\n",
      "懦夫\n",
      "以父之名\n",
      "爱的悬崖\n",
      "双刀\n",
      "三年二班\n",
      "她的睫毛\n"
     ]
    }
   ],
   "source": [
    "with driver.session() as session:\n",
    "    songs = session.read_transaction(album_include, \"叶惠美\")\n",
    "    for song in songs:\n",
    "        # print(song) # 输出全部有关信息\n",
    "        print(song['song_name'])"
   ]
  },
  {
   "cell_type": "markdown",
   "id": "898d547d",
   "metadata": {},
   "source": [
    "## 5. 歌手发行了哪些专辑"
   ]
  },
  {
   "cell_type": "code",
   "execution_count": 11,
   "id": "e1fedeeb",
   "metadata": {},
   "outputs": [],
   "source": [
    "def album_releasedBy(tx, singer):\n",
    "    albums = []\n",
    "    result = tx.run(\"match(m:`专辑`)-[r:released_by]->(o:`歌手`) where o.singer_name=$name return m as album\", name=singer)\n",
    "    for record in result:\n",
    "        albums.append(record[\"album\"])\n",
    "    return albums"
   ]
  },
  {
   "cell_type": "code",
   "execution_count": 12,
   "id": "954dda12",
   "metadata": {},
   "outputs": [
    {
     "name": "stdout",
     "output_type": "stream",
     "text": [
      "周杰伦的床边故事\n",
      "最伟大的作品\n",
      "天台\n",
      "周杰伦地表最强世界巡回演唱会\n",
      "惊叹号\n",
      "跨时代\n",
      "JAY\n",
      "周杰伦魔天伦世界巡回演唱会\n",
      "说好不哭\n",
      "2011最新创作\n",
      "电影 天火\n",
      "雪碧篮球\n",
      "哎呦，不错哦\n",
      "Try\n",
      "Mojito\n",
      "12新作\n",
      "叶惠美\n",
      "等你下课\n"
     ]
    }
   ],
   "source": [
    "with driver.session() as session:\n",
    "    albums = session.read_transaction(album_releasedBy, '周杰伦')\n",
    "    for album in albums:\n",
    "        # print(song) # 输出全部有关信息\n",
    "        print(album['album_name'])"
   ]
  }
 ],
 "metadata": {
  "kernelspec": {
   "display_name": "Python 3 (ipykernel)",
   "language": "python",
   "name": "python3"
  },
  "language_info": {
   "codemirror_mode": {
    "name": "ipython",
    "version": 3
   },
   "file_extension": ".py",
   "mimetype": "text/x-python",
   "name": "python",
   "nbconvert_exporter": "python",
   "pygments_lexer": "ipython3",
   "version": "3.8.4"
  }
 },
 "nbformat": 4,
 "nbformat_minor": 5
}
