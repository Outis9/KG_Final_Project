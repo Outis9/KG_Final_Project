{
 "cells": [
  {
   "cell_type": "code",
   "execution_count": 27,
   "id": "a09dcb23",
   "metadata": {},
   "outputs": [],
   "source": [
    "from neo4j import GraphDatabase\n",
    "import warnings \n",
    "\n",
    "warnings.filterwarnings('ignore')"
   ]
  },
  {
   "cell_type": "code",
   "execution_count": 28,
   "id": "8d7dac45",
   "metadata": {},
   "outputs": [],
   "source": [
    "# @Hakii\n",
    "uri = \"bolt://localhost:7687\" # 127.0.0.1:7687.\n",
    "driver = GraphDatabase.driver(uri, auth=(\"neo4j\", \"040811\"))"
   ]
  },
  {
   "cell_type": "code",
   "execution_count": 31,
   "id": "f7b2c3b5",
   "metadata": {},
   "outputs": [],
   "source": [
    "def album_include(tx, album):\n",
    "    songs = []\n",
    "    result = tx.run(\"match(m:`专辑`)-[r:include]->(n:`歌曲`) where m.album_name=$name return n as song\", name=album)\n",
    "    for record in result:\n",
    "        songs.append(record[\"song\"])\n",
    "    return songs"
   ]
  },
  {
   "cell_type": "code",
   "execution_count": 32,
   "id": "2f3667ee",
   "metadata": {},
   "outputs": [
    {
     "name": "stdout",
     "output_type": "stream",
     "text": [
      "爱的悬崖\n",
      "她的睫毛\n",
      "三年二班\n",
      "晴天\n",
      "东风破\n",
      "双刀\n",
      "同一种调调\n",
      "以父之名\n",
      "你听得到\n",
      "梯田\n",
      "懦夫\n"
     ]
    }
   ],
   "source": [
    "with driver.session() as session:\n",
    "    songs = session.read_transaction(album_include, \"叶惠美\")\n",
    "    for song in songs:\n",
    "        # print(song) # 输出全部有关信息\n",
    "        print(song['song_name'])"
   ]
  }
 ],
 "metadata": {
  "kernelspec": {
   "display_name": "Python 3 (ipykernel)",
   "language": "python",
   "name": "python3"
  },
  "language_info": {
   "codemirror_mode": {
    "name": "ipython",
    "version": 3
   },
   "file_extension": ".py",
   "mimetype": "text/x-python",
   "name": "python",
   "nbconvert_exporter": "python",
   "pygments_lexer": "ipython3",
   "version": "3.8.4"
  }
 },
 "nbformat": 4,
 "nbformat_minor": 5
}
